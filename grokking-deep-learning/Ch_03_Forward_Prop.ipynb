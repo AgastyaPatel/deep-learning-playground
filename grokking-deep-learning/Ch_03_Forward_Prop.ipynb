{
 "cells": [
  {
   "cell_type": "code",
   "execution_count": 1,
   "id": "6b386c54-8d04-4d74-9c85-3e326daf5474",
   "metadata": {},
   "outputs": [
    {
     "data": {
      "text/plain": [
       "0.8500000000000001"
      ]
     },
     "execution_count": 1,
     "metadata": {},
     "output_type": "execute_result"
    }
   ],
   "source": [
    "# Simple Neural Network\n",
    "weight = 0.1\n",
    "def neural_network(inp, weight):\n",
    "    prediction = inp * weight\n",
    "    return prediction\n",
    "\n",
    "# Performing prediction \n",
    "number_of_toes = [8.5, 9.5, 10, 9]\n",
    "inp = number_of_toes[0]\n",
    "pred = neural_network(inp, weight)\n",
    "pred"
   ]
  },
  {
   "cell_type": "markdown",
   "id": "1a4ed585-72bb-455d-83d1-6e9dcf59651f",
   "metadata": {},
   "source": [
    "In Neural network\n",
    "- input is information\n",
    "- weight is knowledge | weight acts as measure of sensitivity for input\n",
    "- output is prediction"
   ]
  },
  {
   "cell_type": "markdown",
   "id": "dfc06416-a237-4c4e-bcf2-e4ed33509187",
   "metadata": {},
   "source": [
    "## Making a Prediction with Multiple Inputs\n"
   ]
  },
  {
   "cell_type": "code",
   "execution_count": 2,
   "id": "044be3b5-f018-4604-97cb-c791ffbd8cd9",
   "metadata": {},
   "outputs": [],
   "source": [
    "# Network with multiple inputs\n",
    "weights = [0.1, 0.2, 0]\n",
    "def neural_network(inp, weights):\n",
    "    print(inp, weights)\n",
    "    pred = w_sum(inp, weights)\n",
    "    return pred"
   ]
  },
  {
   "cell_type": "code",
   "execution_count": 3,
   "id": "8cc24322-441e-4188-91c9-50882c1d2263",
   "metadata": {},
   "outputs": [],
   "source": [
    "# Input\n",
    "toes = [8.5, 9.5, 9.9, 9.0]    # number of toest\n",
    "wlrec = [0.65, 0.8, 0.8, 0.9]  # win/loss percent record\n",
    "nfans = [1.2, 1.3, 0.5, 1.0]   # in millions \n",
    "\n",
    "inp = [toes[0],wlrec[0],nfans[0]]"
   ]
  },
  {
   "cell_type": "code",
   "execution_count": 4,
   "id": "42da3cef-0245-41c4-aa39-81d4c94a030d",
   "metadata": {},
   "outputs": [],
   "source": [
    "def w_sum(a, b):\n",
    "    assert(len(a) == len(b))\n",
    "    output = 0\n",
    "    for i in range(len(a)):\n",
    "        output += a[i] * b[i]\n",
    "    return output"
   ]
  },
  {
   "cell_type": "code",
   "execution_count": 5,
   "id": "bc033627-4fb6-4b27-8f33-a47042507404",
   "metadata": {},
   "outputs": [
    {
     "name": "stdout",
     "output_type": "stream",
     "text": [
      "[8.5, 0.65, 1.2] [0.1, 0.2, 0]\n"
     ]
    },
    {
     "data": {
      "text/plain": [
       "0.9800000000000001"
      ]
     },
     "execution_count": 5,
     "metadata": {},
     "output_type": "execute_result"
    }
   ],
   "source": [
    "weights = [0.1, 0.2, 0] \n",
    "pred = neural_network(inp, weights)\n",
    "pred"
   ]
  },
  {
   "cell_type": "code",
   "execution_count": 6,
   "id": "21bfbd6c-a67e-47bd-896e-0e6b7435bee5",
   "metadata": {},
   "outputs": [],
   "source": [
    "## Challenge\n",
    "def elementwise_addition(vec_a, vec_b):\n",
    "    assert(len(a)==len(b))\n",
    "    vec_c = []\n",
    "    for i in range(len(a)):\n",
    "        vec_c[i] = vec_a[i] + vec_b[i]\n",
    "    return vec_c\n",
    "\n",
    "def elementwise_multiplication(vec_a, vec_b):\n",
    "    assert(len(a)==len(b))\n",
    "    vec_c = []\n",
    "    for i in range(len(a)):\n",
    "        vec_c[i] = vec_a[i] * vec_b[i]\n",
    "    return vec_c\n",
    "\n",
    "def vector_sun(vec_a):\n",
    "    sum = 0\n",
    "    for i in vec_a:\n",
    "        sum+=i\n",
    "    return sum\n",
    "\n",
    "def vector_average(vec_a):\n",
    "    sum = 0\n",
    "    for i in vec_a:\n",
    "        sum+=i\n",
    "    return sum/len(vec_a)\n",
    "    "
   ]
  },
  {
   "cell_type": "markdown",
   "id": "08edf8ca-f65b-4f84-b65f-d49ed86b6f46",
   "metadata": {},
   "source": [
    "# Numpy\n",
    "## Making a Prediction with Multiple Inputs"
   ]
  },
  {
   "cell_type": "code",
   "execution_count": 26,
   "id": "7c4c3056-3298-440e-a624-6e1f97f2dcc2",
   "metadata": {},
   "outputs": [],
   "source": [
    "import numpy as np\n",
    "weight = np.array([0.1, 0.2, 0])\n",
    "def neural_network(inp, weights):\n",
    "    pred = inp.dot(weights)\n",
    "    return pred"
   ]
  },
  {
   "cell_type": "code",
   "execution_count": 28,
   "id": "38a6c05b-3453-436a-a3f7-2116a3acb1d8",
   "metadata": {},
   "outputs": [
    {
     "data": {
      "text/plain": [
       "0.9800000000000001"
      ]
     },
     "execution_count": 28,
     "metadata": {},
     "output_type": "execute_result"
    }
   ],
   "source": [
    "toes = np.array([8.5, 9.5, 9.9, 9.0])\n",
    "wlrec = np.array([0.65, 0.8, 0.8, 0.9])\n",
    "nfans = np.array([1.2, 1.3, 0.5, 1.0])\n",
    "\n",
    "inp = np.array([toes[0], wlrec[0], nfans[0]])\n",
    "pred = neural_network(inp, weights)\n",
    "pred"
   ]
  },
  {
   "cell_type": "markdown",
   "id": "6fbe0f34-1452-4b21-8921-0e86df963a86",
   "metadata": {},
   "source": [
    "## Making a Prediction with Multiple Outputs using single input"
   ]
  },
  {
   "cell_type": "code",
   "execution_count": 33,
   "id": "099796b0-85c0-4225-b11e-930bcfe56e07",
   "metadata": {},
   "outputs": [],
   "source": [
    "# Instead of predicting just whether the team won or lost, \n",
    "# you’re also predicting whether the players are happy or sad\n",
    "# and the percentage of team members who are hurt. \n",
    "# You make this prediction using only the current win/loss record.\n",
    "weights = [0.3, 0.2, 0.9]\n",
    "def neural_network(inp, weights):\n",
    "    pred = ele_mul(inp, weights)\n",
    "    return pred"
   ]
  },
  {
   "cell_type": "code",
   "execution_count": 34,
   "id": "8bdcdcc5-7f84-4c09-8dcc-db6915afbfe9",
   "metadata": {},
   "outputs": [],
   "source": [
    "def ele_mul(number, vector):\n",
    "    output = [0, 0, 0]\n",
    "    assert(len(output) == len(vector))\n",
    "    for i in range(len(output)):\n",
    "        output[i] = number * vector[i]\n",
    "    return output"
   ]
  },
  {
   "cell_type": "code",
   "execution_count": 36,
   "id": "daae27f7-d639-49a3-9a13-f8365b11b2f9",
   "metadata": {},
   "outputs": [
    {
     "data": {
      "text/plain": [
       "[0.195, 0.13, 0.5850000000000001]"
      ]
     },
     "execution_count": 36,
     "metadata": {},
     "output_type": "execute_result"
    }
   ],
   "source": [
    "wlrec = [0.65, 0.8, 0.8, 0.9]\n",
    "inp = wlrec[0]\n",
    "pred =  neural_network(inp, weights)\n",
    "pred"
   ]
  },
  {
   "cell_type": "markdown",
   "id": "dbf0f184-00be-4a99-863c-39cf842265d3",
   "metadata": {},
   "source": [
    "## Making a prediction with Multiple outputs using multiple inputs"
   ]
  },
  {
   "cell_type": "code",
   "execution_count": 38,
   "id": "5416df2a-8b27-456d-ad2c-e31f88da5145",
   "metadata": {},
   "outputs": [],
   "source": [
    "# a weight connects each input node to each output node,\n",
    "           #toes %win #fan\n",
    "weights = [[0.1, 0.1, -0.3], # hurt? \n",
    "           [0.1, 0.2, 0.0], # win? \n",
    "           [0.0, 1.3, 0.1] ] # sad?\n",
    "def neural_network(inp, weights):\n",
    "    pred = vect_mat_mul(inp, weights)\n",
    "    return pred"
   ]
  },
  {
   "cell_type": "code",
   "execution_count": 41,
   "id": "68d3823a-7ce3-4d8d-8468-a7b6bba2b8b3",
   "metadata": {},
   "outputs": [],
   "source": [
    "toes = [8.5, 9.5, 9.9, 9.0] \n",
    "wlrec = [0.65,0.8, 0.8, 0.9] \n",
    "nfans = [1.2, 1.3, 0.5, 1.0]\n",
    "\n",
    "# Inserting one input datapoint\n",
    "inp = [toes[0],wlrec[0],nfans[0]]"
   ]
  },
  {
   "cell_type": "code",
   "execution_count": 54,
   "id": "25f88c25-3549-4015-92af-90dcf7f93afc",
   "metadata": {},
   "outputs": [],
   "source": [
    "def w_sum(a, b):\n",
    "    assert(len(a) == len(b))\n",
    "    output = 0\n",
    "    for i in range(len(a)):\n",
    "        output+= a[i]*b[i]\n",
    "    return output\n",
    "\n",
    "def vect_mat_mul(inps, wMatrix):\n",
    "    assert(len(inps) == len(wMatrix))\n",
    "    output = [0,0,0]\n",
    "    for i in range(len(inps)):\n",
    "        output[i] = w_sum(inps, wMatrix[i])\n",
    "    return output"
   ]
  },
  {
   "cell_type": "code",
   "execution_count": 55,
   "id": "e7d913cc-f907-447a-a11f-91e3df9d84b2",
   "metadata": {},
   "outputs": [
    {
     "data": {
      "text/plain": [
       "[0.555, 0.9800000000000001, 0.9650000000000001]"
      ]
     },
     "execution_count": 55,
     "metadata": {},
     "output_type": "execute_result"
    }
   ],
   "source": [
    "pred = neural_network(inp,weights)\n",
    "pred"
   ]
  },
  {
   "cell_type": "markdown",
   "id": "5254e4f5-9545-41c2-a1f5-655ae8e35950",
   "metadata": {},
   "source": [
    "In the above architecture, we perform vector_matrix_multiplication which is dot product of vector for each row in matrix"
   ]
  },
  {
   "cell_type": "markdown",
   "id": "04114463-c952-445f-8971-752cc3502145",
   "metadata": {},
   "source": [
    "## Predicting on predictions\n",
    "### Stacking layers"
   ]
  },
  {
   "cell_type": "markdown",
   "id": "7a134ccd-c443-4bb5-baf5-7d145cf41bf3",
   "metadata": {},
   "source": [
    "Introducing one hidden layer would result in two vector_matrix_multiplication"
   ]
  },
  {
   "cell_type": "code",
   "execution_count": 56,
   "id": "f6777dc4-de60-4b66-aa99-ae030c144368",
   "metadata": {},
   "outputs": [],
   "source": [
    "        # toes % win # fans \n",
    "ih_wgt = [[0.1, 0.2, -0.1], # hid[0]\n",
    "          [-0.1,0.1, 0.9], # hid[1]\n",
    "          [0.1, 0.4, 0.1] ] # hid[2]\n",
    "\n",
    "        #hid[0] hid[1] hid[2] \n",
    "hp_wgt = [[0.3, 1.1, -0.3], # hurt? \n",
    "          [0.1, 0.2, 0.0], # win?\n",
    "          [0.0, 1.3, 0.1] ] # sad?\n",
    "\n",
    "weights = [ih_wgt, hp_wgt]"
   ]
  },
  {
   "cell_type": "code",
   "execution_count": 57,
   "id": "b5242837-44a5-494c-82c0-97ab32b7013c",
   "metadata": {},
   "outputs": [
    {
     "data": {
      "text/plain": [
       "[0.21350000000000002, 0.14500000000000002, 0.5065]"
      ]
     },
     "execution_count": 57,
     "metadata": {},
     "output_type": "execute_result"
    }
   ],
   "source": [
    "def neural_network(inp, weights):\n",
    "    hid = vect_mat_mul(inp, weights[0])\n",
    "    pred = vect_mat_mul(hid, weights[1])\n",
    "    return pred\n",
    "\n",
    "pred = neural_network(inp, weights)\n",
    "pred"
   ]
  },
  {
   "cell_type": "markdown",
   "id": "9a15d9e7-8d7f-4849-ab5b-e76c49beed89",
   "metadata": {},
   "source": [
    "## Numpy Version of hidden layers"
   ]
  },
  {
   "cell_type": "code",
   "execution_count": 61,
   "id": "e4767691-82b6-4b6c-94e7-a17536ae5c82",
   "metadata": {},
   "outputs": [
    {
     "data": {
      "text/plain": [
       "[0.21350000000000002, 0.14500000000000002, 0.5065]"
      ]
     },
     "execution_count": 61,
     "metadata": {},
     "output_type": "execute_result"
    }
   ],
   "source": [
    "import numpy as np\n",
    "                  #toes %win #fan\n",
    "ih_wgt = np.array([[0.1, 0.2, -0.1], #hid[0]\n",
    "                  [-0.1, 0.1, 0.9], #hid[1]\n",
    "                  [0.1, 0.4, 0.1]])  #hid[2]\n",
    "\n",
    "                # hid[0] hid[1] hid[2]\n",
    "hp_wgt = np.array([[0.3, 1.1, -0.3], # hurt?\n",
    "                  [0.1, 0.2, 0.0],  # win?\n",
    "                  [0.0, 1.3, 0.1]])  # sad?\n",
    "\n",
    "weights = [ih_wgt, hp_wgt]\n",
    "\n",
    "pred = neural_network(inp, weights)\n",
    "pred"
   ]
  },
  {
   "cell_type": "code",
   "execution_count": null,
   "id": "787cc964-0623-490f-aa15-4c413be77605",
   "metadata": {},
   "outputs": [],
   "source": []
  }
 ],
 "metadata": {
  "kernelspec": {
   "display_name": "Python 3 (ipykernel)",
   "language": "python",
   "name": "python3"
  },
  "language_info": {
   "codemirror_mode": {
    "name": "ipython",
    "version": 3
   },
   "file_extension": ".py",
   "mimetype": "text/x-python",
   "name": "python",
   "nbconvert_exporter": "python",
   "pygments_lexer": "ipython3",
   "version": "3.10.14"
  }
 },
 "nbformat": 4,
 "nbformat_minor": 5
}
