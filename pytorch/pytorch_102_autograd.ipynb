{
 "cells": [
  {
   "cell_type": "markdown",
   "id": "53c05b27-6d6c-472f-8952-6e749d9be727",
   "metadata": {},
   "source": [
    "## Autograd\n",
    "\n",
    "torch.autograd is PyTorch's Automatic Differentiation engine that powers the neural network training.\n",
    "\n",
    "### NN happens in two steps:\n",
    "- Forward propagation: In forward prop, the NN makes its best guess about the correct output. It runs the input data throught each of its function to make this guess.\n",
    "- Backpropagation is like a NN’s way of learning. It adjusts its parameters based on how wrong it was in its guess. It starts from the output, collects the errors with respect to the parameters, and then uses gradient descent to optimise the parameters. "
   ]
  },
  {
   "cell_type": "code",
   "execution_count": 1,
   "id": "a7074ed4-584d-4e23-8eb0-aefb0aa7aa13",
   "metadata": {},
   "outputs": [],
   "source": [
    "import torch\n",
    "from torchvision.models import resnet18, ResNet18_Weights"
   ]
  },
  {
   "cell_type": "code",
   "execution_count": 2,
   "id": "b7e562a9-9a54-48eb-bcb6-fbc5b0d5a856",
   "metadata": {},
   "outputs": [
    {
     "name": "stdout",
     "output_type": "stream",
     "text": [
      "<function resnet18 at 0x148790ea0>\n"
     ]
    }
   ],
   "source": [
    "print(resnet18)"
   ]
  },
  {
   "cell_type": "markdown",
   "id": "38f90ac4-6a7c-4ff7-bd6e-28e27b1b76f3",
   "metadata": {},
   "source": [
    "we'll be using resnet18 model from torchvision. we create random data tensor to represent a single image with 3 channels and height & width of 64, and its corresponding `label` initilalised to some random values."
   ]
  },
  {
   "cell_type": "code",
   "execution_count": 3,
   "id": "83089e6b-e6c1-4833-9939-f13127d993a5",
   "metadata": {},
   "outputs": [],
   "source": [
    "model =  resnet18(weights=ResNet18_Weights.DEFAULT)"
   ]
  },
  {
   "cell_type": "code",
   "execution_count": 4,
   "id": "f4b13462-d287-40c7-8bfe-714c095cdaaa",
   "metadata": {},
   "outputs": [],
   "source": [
    "data = torch.rand(1,3, 64, 64)\n",
    "labels = torch.rand(1, 1000)   #Label in pretrained models has a shape(1, 1000)"
   ]
  },
  {
   "cell_type": "code",
   "execution_count": 10,
   "id": "8f1fddc2-c352-4ff4-882d-92836cf29d58",
   "metadata": {},
   "outputs": [
    {
     "data": {
      "text/plain": [
       "(torch.Size([1, 1000]), <AddmmBackward0 at 0x1487c0ca0>)"
      ]
     },
     "execution_count": 10,
     "metadata": {},
     "output_type": "execute_result"
    }
   ],
   "source": [
    "# forward function\n",
    "prediction = model(data)\n",
    "prediction.shape, prediction.grad_fn"
   ]
  },
  {
   "cell_type": "code",
   "execution_count": 6,
   "id": "c691b0b8-9518-4c2a-bac4-32cf2cfad817",
   "metadata": {},
   "outputs": [
    {
     "data": {
      "text/plain": [
       "torch.Size([1, 1000])"
      ]
     },
     "execution_count": 6,
     "metadata": {},
     "output_type": "execute_result"
    }
   ],
   "source": [
    "# Calculating the model loss by comparing the prediction and label\n",
    "loss = prediction - labels\n",
    "loss.shape"
   ]
  },
  {
   "cell_type": "code",
   "execution_count": 8,
   "id": "19accdaa-4bf2-4bb0-afb8-c43022d48e73",
   "metadata": {},
   "outputs": [
    {
     "data": {
      "text/plain": [
       "tensor(-496.0244, grad_fn=<SumBackward0>)"
      ]
     },
     "execution_count": 8,
     "metadata": {},
     "output_type": "execute_result"
    }
   ],
   "source": [
    "loss = loss.sum()\n",
    "loss"
   ]
  },
  {
   "cell_type": "code",
   "execution_count": 9,
   "id": "a5243cec-bcfc-4449-b19a-837c37fd778a",
   "metadata": {},
   "outputs": [],
   "source": [
    "# Next step is to backproporgate this error throght the network\n",
    "loss.backward()"
   ]
  },
  {
   "cell_type": "code",
   "execution_count": 14,
   "id": "aefc90ff-38ba-4c62-a222-ee9d3e8f1a66",
   "metadata": {},
   "outputs": [],
   "source": [
    "# We load an optimizer in this case SGD with learning rate of 0.01 and momentum of 0.9\n",
    "optim = torch.optim.SGD(model.parameters(), lr=1e-2, momentum=0.9)"
   ]
  },
  {
   "cell_type": "code",
   "execution_count": 28,
   "id": "15afaebb-cfb8-4174-b145-590eeafbaf0a",
   "metadata": {
    "scrolled": true
   },
   "outputs": [
    {
     "name": "stdout",
     "output_type": "stream",
     "text": [
      "Parameter Name: conv1.weight\n",
      "Gradient: torch.Size([64, 3, 7, 7])\n",
      "Parameter Name: bn1.weight\n",
      "Gradient: torch.Size([64])\n",
      "Parameter Name: bn1.bias\n",
      "Gradient: torch.Size([64])\n",
      "Parameter Name: layer1.0.conv1.weight\n",
      "Gradient: torch.Size([64, 64, 3, 3])\n",
      "Parameter Name: layer1.0.bn1.weight\n",
      "Gradient: torch.Size([64])\n",
      "Parameter Name: layer1.0.bn1.bias\n",
      "Gradient: torch.Size([64])\n",
      "Parameter Name: layer1.0.conv2.weight\n",
      "Gradient: torch.Size([64, 64, 3, 3])\n",
      "Parameter Name: layer1.0.bn2.weight\n",
      "Gradient: torch.Size([64])\n",
      "Parameter Name: layer1.0.bn2.bias\n",
      "Gradient: torch.Size([64])\n",
      "Parameter Name: layer1.1.conv1.weight\n",
      "Gradient: torch.Size([64, 64, 3, 3])\n",
      "Parameter Name: layer1.1.bn1.weight\n",
      "Gradient: torch.Size([64])\n",
      "Parameter Name: layer1.1.bn1.bias\n",
      "Gradient: torch.Size([64])\n",
      "Parameter Name: layer1.1.conv2.weight\n",
      "Gradient: torch.Size([64, 64, 3, 3])\n",
      "Parameter Name: layer1.1.bn2.weight\n",
      "Gradient: torch.Size([64])\n",
      "Parameter Name: layer1.1.bn2.bias\n",
      "Gradient: torch.Size([64])\n",
      "Parameter Name: layer2.0.conv1.weight\n",
      "Gradient: torch.Size([128, 64, 3, 3])\n",
      "Parameter Name: layer2.0.bn1.weight\n",
      "Gradient: torch.Size([128])\n",
      "Parameter Name: layer2.0.bn1.bias\n",
      "Gradient: torch.Size([128])\n",
      "Parameter Name: layer2.0.conv2.weight\n",
      "Gradient: torch.Size([128, 128, 3, 3])\n",
      "Parameter Name: layer2.0.bn2.weight\n",
      "Gradient: torch.Size([128])\n",
      "Parameter Name: layer2.0.bn2.bias\n",
      "Gradient: torch.Size([128])\n",
      "Parameter Name: layer2.0.downsample.0.weight\n",
      "Gradient: torch.Size([128, 64, 1, 1])\n",
      "Parameter Name: layer2.0.downsample.1.weight\n",
      "Gradient: torch.Size([128])\n",
      "Parameter Name: layer2.0.downsample.1.bias\n",
      "Gradient: torch.Size([128])\n",
      "Parameter Name: layer2.1.conv1.weight\n",
      "Gradient: torch.Size([128, 128, 3, 3])\n",
      "Parameter Name: layer2.1.bn1.weight\n",
      "Gradient: torch.Size([128])\n",
      "Parameter Name: layer2.1.bn1.bias\n",
      "Gradient: torch.Size([128])\n",
      "Parameter Name: layer2.1.conv2.weight\n",
      "Gradient: torch.Size([128, 128, 3, 3])\n",
      "Parameter Name: layer2.1.bn2.weight\n",
      "Gradient: torch.Size([128])\n",
      "Parameter Name: layer2.1.bn2.bias\n",
      "Gradient: torch.Size([128])\n",
      "Parameter Name: layer3.0.conv1.weight\n",
      "Gradient: torch.Size([256, 128, 3, 3])\n",
      "Parameter Name: layer3.0.bn1.weight\n",
      "Gradient: torch.Size([256])\n",
      "Parameter Name: layer3.0.bn1.bias\n",
      "Gradient: torch.Size([256])\n",
      "Parameter Name: layer3.0.conv2.weight\n",
      "Gradient: torch.Size([256, 256, 3, 3])\n",
      "Parameter Name: layer3.0.bn2.weight\n",
      "Gradient: torch.Size([256])\n",
      "Parameter Name: layer3.0.bn2.bias\n",
      "Gradient: torch.Size([256])\n",
      "Parameter Name: layer3.0.downsample.0.weight\n",
      "Gradient: torch.Size([256, 128, 1, 1])\n",
      "Parameter Name: layer3.0.downsample.1.weight\n",
      "Gradient: torch.Size([256])\n",
      "Parameter Name: layer3.0.downsample.1.bias\n",
      "Gradient: torch.Size([256])\n",
      "Parameter Name: layer3.1.conv1.weight\n",
      "Gradient: torch.Size([256, 256, 3, 3])\n",
      "Parameter Name: layer3.1.bn1.weight\n",
      "Gradient: torch.Size([256])\n",
      "Parameter Name: layer3.1.bn1.bias\n",
      "Gradient: torch.Size([256])\n",
      "Parameter Name: layer3.1.conv2.weight\n",
      "Gradient: torch.Size([256, 256, 3, 3])\n",
      "Parameter Name: layer3.1.bn2.weight\n",
      "Gradient: torch.Size([256])\n",
      "Parameter Name: layer3.1.bn2.bias\n",
      "Gradient: torch.Size([256])\n",
      "Parameter Name: layer4.0.conv1.weight\n",
      "Gradient: torch.Size([512, 256, 3, 3])\n",
      "Parameter Name: layer4.0.bn1.weight\n",
      "Gradient: torch.Size([512])\n",
      "Parameter Name: layer4.0.bn1.bias\n",
      "Gradient: torch.Size([512])\n",
      "Parameter Name: layer4.0.conv2.weight\n",
      "Gradient: torch.Size([512, 512, 3, 3])\n",
      "Parameter Name: layer4.0.bn2.weight\n",
      "Gradient: torch.Size([512])\n",
      "Parameter Name: layer4.0.bn2.bias\n",
      "Gradient: torch.Size([512])\n",
      "Parameter Name: layer4.0.downsample.0.weight\n",
      "Gradient: torch.Size([512, 256, 1, 1])\n",
      "Parameter Name: layer4.0.downsample.1.weight\n",
      "Gradient: torch.Size([512])\n",
      "Parameter Name: layer4.0.downsample.1.bias\n",
      "Gradient: torch.Size([512])\n",
      "Parameter Name: layer4.1.conv1.weight\n",
      "Gradient: torch.Size([512, 512, 3, 3])\n",
      "Parameter Name: layer4.1.bn1.weight\n",
      "Gradient: torch.Size([512])\n",
      "Parameter Name: layer4.1.bn1.bias\n",
      "Gradient: torch.Size([512])\n",
      "Parameter Name: layer4.1.conv2.weight\n",
      "Gradient: torch.Size([512, 512, 3, 3])\n",
      "Parameter Name: layer4.1.bn2.weight\n",
      "Gradient: torch.Size([512])\n",
      "Parameter Name: layer4.1.bn2.bias\n",
      "Gradient: torch.Size([512])\n",
      "Parameter Name: fc.weight\n",
      "Gradient: torch.Size([1000, 512])\n",
      "Parameter Name: fc.bias\n",
      "Gradient: torch.Size([1000])\n"
     ]
    }
   ],
   "source": [
    "for name, param in model.named_parameters():\n",
    "    print(f\"Parameter Name: {name}\")\n",
    "    print(f\"Gradient: {param.grad.shape}\")"
   ]
  },
  {
   "cell_type": "code",
   "execution_count": 29,
   "id": "8adf3537-487e-461f-8d24-414497a4646b",
   "metadata": {},
   "outputs": [],
   "source": [
    "# Gradient Descent. the optimizer adjust each parametes by its gradient store d in `.grad`\n",
    "optim.step()"
   ]
  },
  {
   "cell_type": "markdown",
   "id": "78815207-9ea0-486f-a258-ad0925844a7e",
   "metadata": {},
   "source": [
    "### Dataset vs Dataloader vs Dataloaders\n",
    "Dataset -> Dataloader -> Dataloaders (FastAI)  \n",
    "\n",
    "`list[(x,y),...]` -> `[((x1, x2, x3), (y1, y2, y3)), ....]` -> `(Training Dataloader, Validation Dataloader)`"
   ]
  }
 ],
 "metadata": {
  "kernelspec": {
   "display_name": "Python 3 (ipykernel)",
   "language": "python",
   "name": "python3"
  },
  "language_info": {
   "codemirror_mode": {
    "name": "ipython",
    "version": 3
   },
   "file_extension": ".py",
   "mimetype": "text/x-python",
   "name": "python",
   "nbconvert_exporter": "python",
   "pygments_lexer": "ipython3",
   "version": "3.11.11"
  }
 },
 "nbformat": 4,
 "nbformat_minor": 5
}
