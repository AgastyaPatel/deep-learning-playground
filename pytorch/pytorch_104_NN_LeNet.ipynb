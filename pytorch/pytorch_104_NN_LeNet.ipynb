{
 "cells": [
  {
   "cell_type": "code",
   "execution_count": 1,
   "id": "96c24a66-6094-4373-b8da-a5a5e27e42cc",
   "metadata": {},
   "outputs": [],
   "source": [
    "import torch\n",
    "import torch.nn as nn\n",
    "import torch.nn.functional as F"
   ]
  },
  {
   "cell_type": "markdown",
   "id": "11e4356b-3659-4c90-a2b4-e2ec64c05065",
   "metadata": {},
   "source": [
    "### Training Procedure for neural network\n",
    "\n",
    "- Define the NN that has some learnable parameters(weights)\n",
    "- iterate over a dataset of inputs\n",
    "- process input through the network\n",
    "- compute the loss (how far is the output from the actual value)\n",
    "- propagate the gradient back into network's parameters\n",
    "- update the weights of the network, typically using a simple update rule  \n",
    "  `weight = weight - learning_rate * gradient`"
   ]
  },
  {
   "cell_type": "markdown",
   "id": "631f6fe6-f49f-4757-9359-30182a24a71b",
   "metadata": {},
   "source": [
    "# define the network"
   ]
  },
  {
   "cell_type": "code",
   "execution_count": 2,
   "id": "40686891-9800-4d21-aebc-3c94a5340651",
   "metadata": {},
   "outputs": [
    {
     "name": "stdout",
     "output_type": "stream",
     "text": [
      "Net(\n",
      "  (conv1): Conv2d(1, 6, kernel_size=(5, 5), stride=(1, 1))\n",
      "  (conv2): Conv2d(6, 16, kernel_size=(5, 5), stride=(1, 1))\n",
      "  (fc1): Linear(in_features=400, out_features=120, bias=True)\n",
      "  (fc2): Linear(in_features=120, out_features=84, bias=True)\n",
      "  (fc3): Linear(in_features=84, out_features=10, bias=True)\n",
      ")\n"
     ]
    }
   ],
   "source": [
    "class Net(nn.Module):\n",
    "    def __init__(self):\n",
    "        super(Net, self).__init__()\n",
    "        # 1 input image channels, 6 output channels, 5*5 square convolution\n",
    "        # kernel\n",
    "        self.conv1 = nn.Conv2d(1, 6, 5)\n",
    "        self.conv2 = nn.Conv2d(6, 16, 5)\n",
    "\n",
    "        self.fc1 = nn.Linear(16 * 5 * 5, 120)\n",
    "        self.fc2 = nn.Linear(120, 84)\n",
    "        self.fc3 = nn.Linear(84, 10)\n",
    "\n",
    "    def forward(self, input):\n",
    "        # convolution layer c1: 1 input, 5 output channels\n",
    "        # 5 * 5 square convolution, it uses RELU Activation\n",
    "        # outputs a tensor with size (N, 6, 28, 28) where N is the size\n",
    "        c1 = F.relu(self.conv1(input))\n",
    "        # subsampling layer s2: 2*2 grid, purely functional \n",
    "        # this layer does not have any parameter and outputs (N, 6, 14, 14) Tensor\n",
    "        s2 = F.max_pool2d(c1, (2,2))\n",
    "        # convolution layer c3 : 6 input channels, 16 output channels, \n",
    "        # 5x5 square convolution, it uses RELU activation funciton, and \n",
    "        # outputs a (N, 16, 10, 10) Tensor\n",
    "        c3 = F.relu(self.conv2(s2))\n",
    "        # subsampling layer s3: 2x2 grid, purely funcitonal\n",
    "        # this layer does not have any parameter, and outputs a (N, 16, 5, 5) Tensor\n",
    "        s4 = F.max_pool2d(c3, 2)\n",
    "        # flatten operational purely functional outputs a (N, 400) Tensor\n",
    "        s4 = torch.flatten(s4, 1)\n",
    "        # Fully connected layer F5: (N, 400) Tensor input,\n",
    "        # and outputs a (N, 120) Tensor, it uses RELU activation function\n",
    "        f5 = F.relu(self.fc1(s4))\n",
    "        # Fully connected layer F6: (N, 120) Tensor input,\n",
    "        # and outputs a (N, 84) Tensor, it uses RELU activation function\n",
    "        f6 = F.relu(self.fc2(f5))\n",
    "        # Gaussian layer OUTPUT: (N, 84) Tensor input, and\n",
    "        # outputs a (N, 10) Tensor\n",
    "        output = self.fc3(f6)\n",
    "        return output\n",
    "\n",
    "\n",
    "net = Net()\n",
    "print(net)"
   ]
  },
  {
   "cell_type": "markdown",
   "id": "8dc65fd8-5ced-4e70-8c62-5246cd5c62cb",
   "metadata": {},
   "source": [
    "We've defined the `forward` function and the `backward` function (where gradient are computed) is automatically defined for you using the autograd.\n"
   ]
  },
  {
   "cell_type": "code",
   "execution_count": 3,
   "id": "ed6efaa1-43d5-43f6-809b-68feca94cb30",
   "metadata": {},
   "outputs": [
    {
     "name": "stdout",
     "output_type": "stream",
     "text": [
      "10\n",
      "torch.Size([6, 1, 5, 5])\n"
     ]
    }
   ],
   "source": [
    "params = list(net.parameters())\n",
    "print(len(params))\n",
    "print(params[0].size())"
   ]
  },
  {
   "cell_type": "code",
   "execution_count": 4,
   "id": "86c35730-8191-4683-8bf2-176adcd85d41",
   "metadata": {},
   "outputs": [
    {
     "name": "stdout",
     "output_type": "stream",
     "text": [
      "tensor([[-0.0135, -0.0121,  0.0557,  0.0909, -0.0077,  0.0821, -0.0901,  0.1119,\n",
      "         -0.0371,  0.0049]], grad_fn=<AddmmBackward0>)\n"
     ]
    }
   ],
   "source": [
    "# Let's try random 32 * 32 input\n",
    "# Expected input size of LeNet (Above Created)\n",
    "## if MNIST dataset is being used then resize input to 32*32\n",
    "input = torch.randn(1,1,32,32)\n",
    "out = net(input)\n",
    "print(out)"
   ]
  },
  {
   "cell_type": "code",
   "execution_count": 5,
   "id": "b07bf21e-6c0d-46c2-84b2-dd9df2e760b8",
   "metadata": {},
   "outputs": [],
   "source": [
    "# Zero the gradient buffers of all parameters and backprop with random gradients\n",
    "net.zero_grad()\n",
    "out.backward(torch.randn(1, 10))"
   ]
  },
  {
   "cell_type": "markdown",
   "id": "e41fb87a-bf6b-4e0a-b55f-818ad683671f",
   "metadata": {},
   "source": [
    "- We've created a NN\n",
    "- Processing inputs and calling backward\n",
    "### Still left\n",
    "- Compputing the loss\n",
    "- updating the weights of the network"
   ]
  },
  {
   "cell_type": "markdown",
   "id": "c0a1d43b-ebe5-494c-9b2f-975d16a095aa",
   "metadata": {},
   "source": [
    "> #### Extra learning: Squeeze and unsqueeze operations\n",
    "> Squeeze operation: Remove unit dimmensions\n",
    "> Unsqueeze operation: Add unit dimmensions"
   ]
  },
  {
   "cell_type": "code",
   "execution_count": 6,
   "id": "8edbe5e7-dea4-4cb5-b255-e81c37fb0164",
   "metadata": {},
   "outputs": [
    {
     "data": {
      "text/plain": [
       "torch.Size([2, 2, 1, 2])"
      ]
     },
     "execution_count": 6,
     "metadata": {},
     "output_type": "execute_result"
    }
   ],
   "source": [
    "x = torch.zeros(2, 2, 1, 2)\n",
    "x.shape"
   ]
  },
  {
   "cell_type": "code",
   "execution_count": 7,
   "id": "064d5af9-a29f-42e1-8f28-b9321870bfd2",
   "metadata": {},
   "outputs": [
    {
     "data": {
      "text/plain": [
       "torch.Size([2, 1, 2, 1, 2])"
      ]
     },
     "execution_count": 7,
     "metadata": {},
     "output_type": "execute_result"
    }
   ],
   "source": [
    "x.unsqueeze_(1)\n",
    "x.shape"
   ]
  },
  {
   "cell_type": "code",
   "execution_count": 8,
   "id": "b3ac45d7-e1cb-49d9-bed4-afe27e3770b6",
   "metadata": {},
   "outputs": [
    {
     "data": {
      "text/plain": [
       "torch.Size([2, 2, 2])"
      ]
     },
     "execution_count": 8,
     "metadata": {},
     "output_type": "execute_result"
    }
   ],
   "source": [
    "x.squeeze_().shape"
   ]
  },
  {
   "cell_type": "markdown",
   "id": "44b501e4-2ba3-41b6-965f-25b24cff3b4a",
   "metadata": {},
   "source": [
    "## Loss Function"
   ]
  },
  {
   "cell_type": "code",
   "execution_count": 9,
   "id": "d1650287-8682-4d56-b90c-96c7e0461dfa",
   "metadata": {},
   "outputs": [
    {
     "name": "stdout",
     "output_type": "stream",
     "text": [
      "tensor(1.0133, grad_fn=<MseLossBackward0>)\n"
     ]
    }
   ],
   "source": [
    "output = net(input)\n",
    "target = torch.randn(10)\n",
    "target = target.view(1, -1)\n",
    "criterion = nn.MSELoss()\n",
    "\n",
    "loss = criterion(output, target)\n",
    "print(loss)"
   ]
  },
  {
   "cell_type": "markdown",
   "id": "f0d8cd77-f3a0-4252-a9e9-ae36635c5bad",
   "metadata": {},
   "source": [
    "Now, if you follow loss in the backward direction, using its .grad_fn attribute, you will see a graph of computations that looks like this:\n",
    "\n",
    "input -> conv2d -> relu -> maxpool2d -> conv2d -> relu -> maxpool2d\n",
    "      -> flatten -> linear -> relu -> linear -> relu -> linear\n",
    "      -> MSELoss\n",
    "      -> loss"
   ]
  },
  {
   "cell_type": "markdown",
   "id": "2321dc61-410c-4c5d-9d0a-715d8e050bb2",
   "metadata": {},
   "source": [
    "So, when we call loss.backward(), the whole graph is differentiated w.r.t the nn parameters, and all tensors in the graph has to have `requires_grad=True` will have their `.grad` tensor accumulated with the gradient."
   ]
  },
  {
   "cell_type": "code",
   "execution_count": 10,
   "id": "b8b54f1c-a745-4ce4-a154-4d0358b442be",
   "metadata": {},
   "outputs": [
    {
     "name": "stdout",
     "output_type": "stream",
     "text": [
      "<MseLossBackward0 object at 0x329b28dc0>\n",
      "((<AddmmBackward0 object at 0x329b28e50>, 0), (None, 0))\n",
      "<AddmmBackward0 object at 0x329b28e50>\n",
      "<AccumulateGrad object at 0x3299f75b0>\n"
     ]
    }
   ],
   "source": [
    "print(loss.grad_fn)\n",
    "print(loss.grad_fn.next_functions)  # Linear\n",
    "print(loss.grad_fn.next_functions[0][0])  # Relu\n",
    "print(loss.grad_fn.next_functions[0][0].next_functions[0][0])"
   ]
  },
  {
   "cell_type": "markdown",
   "id": "6af40cce-55f7-4444-a3b3-f2b014e7ba21",
   "metadata": {},
   "source": [
    "## Backprop\n",
    "To backpropagate we will just call loss.backward()\n",
    "> Make sure to clear all gradient else gradients will be accumulated."
   ]
  },
  {
   "cell_type": "code",
   "execution_count": 11,
   "id": "0010f32a-c04e-41b8-91a8-c81b0b08b184",
   "metadata": {},
   "outputs": [
    {
     "name": "stdout",
     "output_type": "stream",
     "text": [
      "conv1.bias.grad before backward\n",
      "None\n"
     ]
    }
   ],
   "source": [
    "net.zero_grad()\n",
    "\n",
    "print('conv1.bias.grad before backward')\n",
    "print(net.conv1.bias.grad)"
   ]
  },
  {
   "cell_type": "code",
   "execution_count": 12,
   "id": "259fbab0-5fce-4908-bf77-1b40ffdab9ce",
   "metadata": {},
   "outputs": [
    {
     "name": "stdout",
     "output_type": "stream",
     "text": [
      "conv1.bias.grad after backward\n",
      "tensor([ 0.0209, -0.0084,  0.0012, -0.0224,  0.0194,  0.0026])\n"
     ]
    }
   ],
   "source": [
    "loss.backward()\n",
    "\n",
    "print('conv1.bias.grad after backward')\n",
    "print(net.conv1.bias.grad)"
   ]
  },
  {
   "cell_type": "markdown",
   "id": "4c3aadcd-5c10-4d25-b302-0cb8ff1ee881",
   "metadata": {},
   "source": [
    "## Update the weights\n",
    "Simplest update rule used in SGD\n",
    "\n",
    "`weight = weight - learning_rate * gradient`"
   ]
  },
  {
   "cell_type": "code",
   "execution_count": 13,
   "id": "0cbc9d22-3392-4a47-918e-a9653a51e297",
   "metadata": {},
   "outputs": [],
   "source": [
    "learning_rate = 0.01\n",
    "for f in net.parameters():\n",
    "    f.data.sub_(f.grad.data * learning_rate)"
   ]
  },
  {
   "cell_type": "markdown",
   "id": "7fe96f1d-cd8d-460d-88d6-39d79d4c01cb",
   "metadata": {},
   "source": [
    "We also have more complex weight updation rules like SGD, Nesterov-SGD, Adam, RMSProp, etc.\n",
    "`torch.optim` helps you out to implement all these methods."
   ]
  },
  {
   "cell_type": "code",
   "execution_count": 15,
   "id": "c4c4c844-20b7-4a15-af36-632a934761b2",
   "metadata": {},
   "outputs": [],
   "source": [
    "import torch.optim as optim\n",
    "\n",
    "optimizer = optim.SGD(net.parameters(), lr = 0.01)\n",
    "\n",
    "#in your training loop\n",
    "optimizer.zero_grad()   # gradient zeroing\n",
    "out = net(input)\n",
    "loss = criterion(output, target)    # criterion is basically MSE Loss\n",
    "loss.backward()\n",
    "optimizer.step()  # does the update"
   ]
  },
  {
   "cell_type": "code",
   "execution_count": null,
   "id": "2bec4d84-334a-4bd7-b1f2-c2ede5a4152f",
   "metadata": {},
   "outputs": [],
   "source": []
  },
  {
   "cell_type": "code",
   "execution_count": null,
   "id": "1b51ced6-89c6-4e15-b74d-1d4cca9b34d6",
   "metadata": {},
   "outputs": [],
   "source": []
  }
 ],
 "metadata": {
  "kernelspec": {
   "display_name": "Python 3 (ipykernel)",
   "language": "python",
   "name": "python3"
  },
  "language_info": {
   "codemirror_mode": {
    "name": "ipython",
    "version": 3
   },
   "file_extension": ".py",
   "mimetype": "text/x-python",
   "name": "python",
   "nbconvert_exporter": "python",
   "pygments_lexer": "ipython3",
   "version": "3.11.11"
  }
 },
 "nbformat": 4,
 "nbformat_minor": 5
}
